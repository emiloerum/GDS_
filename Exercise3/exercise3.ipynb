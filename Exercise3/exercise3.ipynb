{
 "cells": [
  {
   "cell_type": "markdown",
   "metadata": {},
   "source": [
    "# Exercise 3: Learning from Data\n",
    "\n",
    "In this exercise, you will train different types of regression and classification models on two datasets. You will be graded based on a combination of your code producing the expected results, your written responses to the questions and a passing leaderboard score in the final exercise."
   ]
  },
  {
   "cell_type": "markdown",
   "metadata": {},
   "source": [
    "### 3.1 Linear / Logistic Regression for digit recognition\n",
    "\n",
    "In this part you will experiment with two different types of prediction models, and qualitatively + quantitatively compare them. You will be working with the classic MNIST dataset, which we can load from `sklearn.datasets`."
   ]
  },
  {
   "cell_type": "code",
   "execution_count": 1,
   "metadata": {},
   "outputs": [],
   "source": [
    "# Importing the dataset\n",
    "from sklearn import datasets\n",
    "digits = datasets.load_digits();"
   ]
  },
  {
   "cell_type": "markdown",
   "metadata": {},
   "source": [
    "Here we plot the first few digits and their labels. Apparently they are in order, but our upcoming models will not rely on this."
   ]
  },
  {
   "cell_type": "code",
   "execution_count": 2,
   "metadata": {},
   "outputs": [
    {
     "data": {
      "image/png": "[encoded data removed]",
      "text/plain": [
       "<Figure size 1500x300 with 12 Axes>"
      ]
     },
     "metadata": {},
     "output_type": "display_data"
    }
   ],
   "source": [
    "import matplotlib.pyplot as plt\n",
    "\n",
    "_, axes = plt.subplots(nrows=1, ncols=12, figsize=(15, 3))\n",
    "for ax, image, label in zip(axes, digits.images, digits.target):\n",
    "    ax.set_axis_off()\n",
    "    ax.imshow(image, cmap=plt.cm.gray_r, interpolation=\"nearest\")\n",
    "    ax.set_title(\"Label: %i\" % label)"
   ]
  },
  {
   "cell_type": "markdown",
   "metadata": {},
   "source": [
    "### A: Warmup Exercise\n",
    "\n",
    "Use the `train_test_split` function from `sklearn.model_selection` twice to split the data into train, validation, and test sets, with a distribution of 80%, 10%, and 10% respectively. Use `random_state=0` for reproducibility.\n",
    "Check out the documentation to figure out how to set the parameters to get the desired split. "
   ]
  },
  {
   "cell_type": "code",
   "execution_count": 3,
   "metadata": {},
   "outputs": [],
   "source": [
    "# INSERT YOUR CODE HERE. ASSIGN TO THE FOLLOWING VARIABLES, X_train, X_val, X_test, y_train, y_val, y_test\n",
    "# >\n",
    "from sklearn.model_selection import train_test_split\n",
    "X_train, X_test, y_train, y_test = train_test_split(digits.data, digits.target, test_size=0.2, random_state=0)\n",
    "X_test, X_val, y_test, y_val = train_test_split(X_test, y_test, test_size=0.5, random_state=0)"
   ]
  },
  {
   "cell_type": "markdown",
   "metadata": {},
   "source": [
    "Now let's check out the returned training data, which is of the type `numpy.ndarray`, which you might have seen already. We want to make sure the classes are balanced, e.g. we don't have a lot more 4's than 5's.\n",
    " - How many images do we have for the train, validation, and test sets?\n",
    " - What is the distribution of the training labels? Comment on whether the classes are balanced."
   ]
  },
  {
   "cell_type": "code",
   "execution_count": 4,
   "metadata": {},
   "outputs": [
    {
     "name": "stdout",
     "output_type": "stream",
     "text": [
      "Images in training set:  1437\n",
      "Images in validation set:  180\n",
      "Images in test set:  180\n",
      "Training Label Distribution: {0: 151, 1: 147, 2: 141, 3: 154, 4: 151, 5: 142, 6: 137, 7: 140, 8: 135, 9: 139}\n"
     ]
    }
   ],
   "source": [
    "# CALCULATE AND WRITE YOUR ANSWERS HERE\n",
    "# >\n",
    "#Amount of images in training, validation and test set respectively\n",
    "print('Images in training set: ', len(X_train))\n",
    "print('Images in validation set: ', len(X_val))\n",
    "print('Images in test set: ', len(X_test))\n",
    "\n",
    "#Distribution of labels in training data\n",
    "train_label_distribution = {label: y_train.tolist().count(label) for label in set(y_train)}\n",
    "print(\"Training Label Distribution:\", train_label_distribution)\n",
    "\n"
   ]
  },
  {
   "cell_type": "markdown",
   "metadata": {},
   "source": [
    "From the output above we see that there are 1437 images in the training set, 180 in the validation set and\n",
    "180 in the test set.\n",
    "\n",
    "From the computation of the class distribution in the training set,\n",
    "it is seen that the distribution is quite balance, i.e. no classes are over/under-represented."
   ]
  },
  {
   "cell_type": "markdown",
   "metadata": {},
   "source": [
    "### B: Programming Exercise\n",
    "\n",
    "Let's build a model that learns to predict the digit given the image. We'll first try our hand at linear regression. We will use the `LinearRegression` class from `sklearn.linear_model`. Again, check out the documentation on how to use it. We will use the `fit` method to train the model, and the `predict` method to make predictions on the test set.\n",
    "Afterwards, evaluate the model using functions from `sklearn.metrics` module."
   ]
  },
  {
   "cell_type": "code",
   "execution_count": 5,
   "metadata": {},
   "outputs": [
    {
     "name": "stdout",
     "output_type": "stream",
     "text": [
      "LinearRegression MSE:  4.3195902478008\n",
      "LinearRegression accuracy:  0.25\n"
     ]
    },
    {
     "data": {
      "image/png": "[encoded data removed]",
      "text/plain": [
       "<Figure size 1000x300 with 10 Axes>"
      ]
     },
     "metadata": {},
     "output_type": "display_data"
    }
   ],
   "source": [
    "# DEFINE A LinearRegression MODEL USING SKLEARN. ASSIGN THE MODEL TO THE VARIABLE model.\n",
    "# >\n",
    "from sklearn.linear_model import LinearRegression\n",
    "from sklearn.metrics import mean_squared_error\n",
    "from sklearn.metrics import accuracy_score\n",
    "import numpy as np\n",
    "\n",
    "\n",
    "model = LinearRegression()\n",
    "# FIT THE MODEL AND MAKE PREDICTIONS ON THE TEST SET. ASSIGN THE PREDICTIONS TO THE VARIABLE y_pred.\n",
    "# >\n",
    "\n",
    "#Fitting model to training data\n",
    "model.fit(X_train, y_train)\n",
    "\n",
    "#Making predictions on the test set\n",
    "y_pred = model.predict(X_test)\n",
    "# ASSIGN YOUR MODEL'S TEST SET MSE TO THE VARIABLE mse AND ITS ACCURACY TO THE VARIABLE acc.\n",
    "# >\n",
    "mse = mean_squared_error(y_test, y_pred)\n",
    "\n",
    "def accuracy(predicted_labels, true_labels):\n",
    "    '''Accuracy function that returns the percentage of correctly predicted labels'''\n",
    "    rounded_predictions = np.round(predicted_labels)\n",
    "    correct_predictions = np.sum(rounded_predictions == true_labels)\n",
    "    return correct_predictions/len(true_labels)\n",
    "\n",
    "acc = accuracy(y_pred, y_test)\n",
    "# DO NOT INSERT OR CHANGE ANYTHING BELOW\n",
    "print(\"LinearRegression MSE: \", mse)\n",
    "print(\"LinearRegression accuracy: \", acc)\n",
    "\n",
    "_, axes = plt.subplots(nrows=1, ncols=10, figsize=(10, 3))\n",
    "for ax, image, prediction in zip(axes, X_test, y_pred):\n",
    "    ax.set_axis_off()\n",
    "    image = image.reshape(8, 8)\n",
    "    ax.imshow(image, cmap=plt.cm.gray_r, interpolation=\"nearest\")\n",
    "    ax.set_title(\"%i\" % prediction)"
   ]
  },
  {
   "cell_type": "markdown",
   "metadata": {},
   "source": [
    "### C: Programming Exercise\n",
    "\n",
    "Now, let's model the task differently.\n",
    "You will use the `LogisticRegression`, again included in the module `sklearn.linear_model`, and again, check out the documentation to see how to use it. Fit the model and make predictions on the test set. \n",
    "\n",
    "You are asked to produce output with the same structure as in the above programming exercise (two printouts and one image), but for a different model this time."
   ]
  },
  {
   "cell_type": "code",
   "execution_count": 6,
   "metadata": {},
   "outputs": [
    {
     "name": "stdout",
     "output_type": "stream",
     "text": [
      "LogisticRegression accuracy:  0.9666666666666667\n"
     ]
    },
    {
     "data": {
      "image/png": "[encoded data removed]",
      "text/plain": [
       "<Figure size 1000x300 with 10 Axes>"
      ]
     },
     "metadata": {},
     "output_type": "display_data"
    }
   ],
   "source": [
    "# YOUR CODE HERE\n",
    "# >\n",
    "from sklearn.linear_model import LogisticRegression\n",
    "model = LogisticRegression(max_iter=200)\n",
    "\n",
    "model.fit(X_train, y_train)\n",
    "\n",
    "y_pred = model.predict(X_test)\n",
    "acc = accuracy_score(y_test, y_pred)\n",
    "\n",
    "# DO NOT INSERT OR CHANGE ANYTHING BELOW\n",
    "# print(\"LogisticRegression MSE: \", mse)\n",
    "print(\"LogisticRegression accuracy: \", acc)\n",
    "\n",
    "_, axes = plt.subplots(nrows=1, ncols=10, figsize=(10, 3))\n",
    "for ax, image, prediction in zip(axes, X_test, y_pred):\n",
    "    ax.set_axis_off()\n",
    "    image = image.reshape(8, 8)\n",
    "    ax.imshow(image, cmap=plt.cm.gray_r, interpolation=\"nearest\")\n",
    "    ax.set_title(\"%i\" % prediction)\n"
   ]
  },
  {
   "cell_type": "markdown",
   "metadata": {},
   "source": [
    "### Written Questions"
   ]
  },
  {
   "cell_type": "markdown",
   "metadata": {},
   "source": [
    "1a) Describe the trends you observe in the results. Is there anything interesting or unexpected? \n",
    "\n",
    "1b) How do the results compare to the linear regression model? \n",
    "\n",
    "1c) What do you think is the reason for this?"
   ]
  },
  {
   "cell_type": "markdown",
   "metadata": {},
   "source": [
    "### Answers"
   ]
  },
  {
   "cell_type": "markdown",
   "metadata": {},
   "source": [
    "1a)\n",
    "The trends we see when using the logistic regression model on the MNIST data is as expected.\n",
    "Mainly that the the model predicts the label quite good with an accuracy of 0.96 meaning that \n",
    "it only fails to classify in a very small set of cases. This is what we would expect, since\n",
    "logistic regression is used for a classification task such as this.\n",
    "\n",
    "1b)\n",
    "The results of the logistic regression model is much better than those of the\n",
    "linear regression model.\n",
    "\n",
    "1c)\n",
    "The reason for the results being better in the logistic regression model compared\n",
    "to the linear regression model is that, as mentioned above that logistic regression typically\n",
    "is used for classification tasks, that this is (trying to predict a label from the input) and that\n",
    "linear regression mainly is used for regression tasks (trying to predict a value from the input)."
   ]
  },
  {
   "cell_type": "markdown",
   "metadata": {},
   "source": [
    "## Exercise 3.2: Counting stars"
   ]
  },
  {
   "cell_type": "markdown",
   "metadata": {},
   "source": [
    "Your team is tasked with applying data science and machine learning techniques to some recently collected telescope image data. The telescope takes low resolution images, in which stars either appear as squares or circles. Your task is to train a classifier to determine whether there are more circular stars than square stars in each image. The budget is tight this year so there are no resources available to train expensive deep neural networks; you will need to train a linear or logistic regression classifier instead.\n",
    "\n",
    "You are encouraged to be creative, and to try out different things empirically, too. Preprocessing could be crucial to the success of your model. Good luck!\n",
    "\n",
    "Below is a sample of the data you'll be working with. Above each image is the label, which shows the number of circular and square stars, respectively. We do not count the small noisy background stars. \n",
    "\n",
    "![](sample.png)"
   ]
  },
  {
   "cell_type": "markdown",
   "metadata": {},
   "source": [
    "### D: Programming Exercise\n",
    "\n",
    "1. Create an account on Kaggle to collect the data https://www.kaggle.com/competitions/gds-exercise-3/. You can either use your real name, or tell us your Kaggle username, so we can grade you.\n",
    "2. Download the training data from https://www.kaggle.com/competitions/gds-exercise-3/data. Check out the Dataset Description for more information about the data and your task.\n",
    "2. Load the training data file `stars_train_X_y.npz` and split it into `train`, `val`, and `test` splits.\n",
    "3. Use a linear or logistic regression model to fit the `train` data. Use the `val` and `test` splits for model selection and hyperparameter optimization. (You should measure performance using accuracy)."
   ]
  },
  {
   "cell_type": "code",
   "execution_count": 19,
   "metadata": {},
   "outputs": [],
   "source": [
    "# YOUR CODE HERE\n",
    "# >\n",
    "\n",
    "#MY KAGGLE USERNAME IS: emilbentinrum\n",
    "import numpy as np\n",
    "\n",
    "#Loading in data\n",
    "data = np.load('stars_train_Xy.npz')\n",
    "#Splitting into feature and target data\n",
    "X = data['X_train'] #   np.ndarray of size (8000, 4096),  flattened image (64x64) of the night sky.\n",
    "y = data['y_train'] #   np.ndarray of size (8000, 2), number of circular stars and number square stars.\n",
    "y = y[:, 0]>y[:, 1]"
   ]
  },
  {
   "cell_type": "markdown",
   "metadata": {},
   "source": [
    "The preprocessed target data has been \"flattened\" to only contain one element instead of two.\n",
    "That is, the boolean value of the following statement: \"There are more circular stars than square stars\"\n",
    "The result array is an array that contains the result of - for each row in the original data -\n",
    "evaluating the above statement (i.e. compares the two columns)."
   ]
  },
  {
   "cell_type": "code",
   "execution_count": 8,
   "metadata": {},
   "outputs": [],
   "source": [
    "X_train, X_test, y_train, y_test = train_test_split(X, y, test_size=0.2, random_state=0)\n",
    "X_test, X_val, y_test, y_val = train_test_split(X_test, y_test, test_size=0.5, random_state=0)"
   ]
  },
  {
   "cell_type": "code",
   "execution_count": 9,
   "metadata": {},
   "outputs": [
    {
     "name": "stdout",
     "output_type": "stream",
     "text": [
      "Accuracy of linear model on validation data:  0.4425\n"
     ]
    }
   ],
   "source": [
    "linearModel = LinearRegression().fit(X_train, y_train)\n",
    "y_pred = linearModel.predict(X_val)\n",
    "acc = accuracy(y_pred, y_val)\n",
    "print('Accuracy of linear model on validation data: ', acc)"
   ]
  },
  {
   "cell_type": "code",
   "execution_count": 10,
   "metadata": {},
   "outputs": [
    {
     "name": "stdout",
     "output_type": "stream",
     "text": [
      "Accuracy of logistic model on validation data:  0.505\n"
     ]
    }
   ],
   "source": [
    "logisticModel = LogisticRegression(max_iter=200).fit(X_train, y_train)\n",
    "y_pred = logisticModel.predict(X_val)\n",
    "acc = accuracy_score(y_val, y_pred)\n",
    "print('Accuracy of logistic model on validation data: ', acc)"
   ]
  },
  {
   "cell_type": "markdown",
   "metadata": {},
   "source": [
    "As expected - like in the previous exercise - the model which performs the best, is the logistic regression\n",
    "model since we are dealing with a classification problem. Thus, we continue to explore this below:"
   ]
  },
  {
   "cell_type": "markdown",
   "metadata": {},
   "source": [
    "The below cell preprocesses the data as follows:\n",
    "The preprocessed feature data consists of - for each sample - the sum of all the pixels that was\n",
    "set to 1.0 (i.e. those that make up square stars) as the first column and the sum\n",
    "of all pixels that was set to 2.0 (i.e. those that make up circular stars) as the second column."
   ]
  },
  {
   "cell_type": "code",
   "execution_count": 11,
   "metadata": {},
   "outputs": [],
   "source": [
    "#Preprocessing data:\n",
    "X_mod = np.column_stack((np.sum(X == 1.0, axis=1), np.sum(X == 2.0, axis=1)))"
   ]
  },
  {
   "cell_type": "code",
   "execution_count": 12,
   "metadata": {},
   "outputs": [],
   "source": [
    "#Splitting the preprocessed data into train, val, test splits:\n",
    "X_train, X_test, y_train, y_test = train_test_split(X_mod, y, test_size=0.2, random_state=0)\n",
    "X_test, X_val, y_test, y_val = train_test_split(X_test, y_test, test_size=0.5, random_state=0)"
   ]
  },
  {
   "cell_type": "code",
   "execution_count": 13,
   "metadata": {},
   "outputs": [
    {
     "name": "stdout",
     "output_type": "stream",
     "text": [
      "Accuracy on validation data:  0.9225\n"
     ]
    },
    {
     "data": {
      "image/png": "[encoded data removed]",
      "text/plain": [
       "<Figure size 640x480 with 1 Axes>"
      ]
     },
     "metadata": {},
     "output_type": "display_data"
    }
   ],
   "source": [
    "plt.imshow(X[0].reshape(64,64), cmap='gray')\n",
    "\n",
    "#Fitting logistic regression model to the preprocessed data\n",
    "logisticModel2 = LogisticRegression().fit(X_train, y_train)\n",
    "\n",
    "y_pred = logisticModel2.predict(X_val)\n",
    "\n",
    "acc = accuracy_score(y_val, y_pred)\n",
    "print('Accuracy on validation data: ', acc)\n",
    "\n",
    "# y_pred1 = logisticModel2.predict(X_test)\n",
    "\n",
    "# #Checking prediction percentage on the test data\n",
    "# acc1 = accuracy_score(y_test, y_pred1)\n",
    "# print('Accuracy on test data: ', acc1)"
   ]
  },
  {
   "cell_type": "code",
   "execution_count": 14,
   "metadata": {},
   "outputs": [
    {
     "name": "stdout",
     "output_type": "stream",
     "text": [
      "Best parameters for logistic regression model:  {'C': 0.1, 'penalty': 'l2', 'solver': 'liblinear'}\n",
      "Best score:  0.92640625\n"
     ]
    }
   ],
   "source": [
    "#Hyperparameter tuning using gridseach and cross-validation\n",
    "from sklearn.model_selection import GridSearchCV\n",
    "\n",
    "#This is one of the only set of parameters that make sense to test together.\n",
    "#The only solver for logistic regression that work with both L1 and L2 penalty is the liblinear solver\n",
    "#so that we will use and test together with different values of C\n",
    "params_grid = {\n",
    "    'solver' : ['liblinear'],\n",
    "    'penalty' : ['l1', 'l2'],\n",
    "    'C' : [0.001, 0.01, 0.1, 1, 10]\n",
    "}\n",
    "\n",
    "gs_cv = GridSearchCV(logisticModel2, params_grid, scoring='accuracy', cv=5)\n",
    "\n",
    "gs_cv.fit(X_train, y_train)\n",
    "\n",
    "best_params = gs_cv.best_params_\n",
    "best_score = gs_cv.best_score_\n",
    "print('Best parameters for logistic regression model: ', best_params)\n",
    "print('Best score: ', best_score)"
   ]
  },
  {
   "cell_type": "markdown",
   "metadata": {},
   "source": [
    "### E: Unlabelled data evaluation\n",
    "\n",
    "You should download the unlabeled test data from https://www.kaggle.com/competitions/gds-exercise-3/data and make predictions for all of the unlabeled images in the test set. You can submit your best predictions to Kaggle three times/day.\n",
    "\n",
    "The course responsible has submitted a naive baseline and we're sure you can beat that score! This programming exercise is considered passed if you achieve  $\\text{Score} \\ge 0.85$ on the leaderboard."
   ]
  },
  {
   "cell_type": "code",
   "execution_count": 17,
   "metadata": {},
   "outputs": [],
   "source": [
    "#Initializing best performing model with appropriate hyperparameters:\n",
    "logisticModel_final = LogisticRegression(penalty='l2', C=0.1, solver='liblinear').fit(X_train, y_train)"
   ]
  },
  {
   "cell_type": "code",
   "execution_count": 18,
   "metadata": {},
   "outputs": [],
   "source": [
    "# LOAD THE TEST SET AND MAKE PREDICTIONS. ASSIGN THE PREDICTIONS TO THE VARIABLE y_pred.\n",
    "# >\n",
    "\n",
    "#Loading unlabeled test data\n",
    "data = np.load('stars_test_X.npz')\n",
    "X_test = data['X_test']\n",
    "\n",
    "#Preprocessing unlabeled test data to be able to use our logistic regression model on it\n",
    "square_pixels_test = np.sum(X_test == 1.0, axis=1)\n",
    "star_pixels_test = np.sum(X_test == 2.0, axis=1)\n",
    "X_test_mod = np.column_stack((square_pixels_test, star_pixels_test))\n",
    "\n",
    "y_pred = logisticModel_final.predict(X_test_mod)\n",
    "\n",
    "output_file = \"prediction.csv\"\n",
    "# DO NOT INSERT OR CHANGE ANYTHING BELOW\n",
    "import numpy as np\n",
    "# Use this function to save your predictions on stars_test_X.npz to a \"prediction.csv\" file.\n",
    "# The produced csv file can be directly uploaded to Kaggle for evaluation.\n",
    "def y_pred_to_kaggle_format (y_pred : np.ndarray) -> None:\n",
    "    np.c_[np.arange(1, len(y_pred)+1), y_pred]\n",
    "    np.savetxt(output_file, np.c_[np.arange(1, len(y_pred)+1), y_pred], fmt='%i', delimiter=\",\", header=\"Id,Category\", comments='')\n",
    "\n",
    "y_pred_to_kaggle_format(y_pred)\n",
    "\n",
    "# NOW YOU CAN UPLOAD THE prediction.csv FILE TO KAGGLE AND SEE YOUR ACCURACY"
   ]
  },
  {
   "cell_type": "markdown",
   "metadata": {},
   "source": [
    "### Written Questions\n",
    "\n",
    "2a) Explain the different techniques and their purpose in your code for Programming Exercise D.\n",
    "\n",
    "2b) Which techniques were not useful in improving performance on this task?"
   ]
  },
  {
   "cell_type": "markdown",
   "metadata": {},
   "source": [
    "### 2a) and 2b) answers\n",
    "In programming exercise D i initially start with testing whether a linear or logistic regression\n",
    "model will perform best on the original data with sklearns default hyperparameter settings.\n",
    "I conclude that logistic regression model works best, for a classification problem like this and proceed\n",
    "to look into how i can improve the performance by preprocessing the data.\n",
    "\n",
    "The original data contains a lot of features that do not contribute to what the purpose of the model should be/ what the model should predict.\n",
    "Namely, that it should decide whether there are more square stars or circular stars in an image. So the\n",
    "purpose of the preprocess step i did was to remove all the pixels that has the least impact on the amount\n",
    "of square and/or circular stars. This is the 0.0/black pixels. Thus, the new input for my logistics regression model\n",
    "became one with two features describing the amount of 1.0 and 2.0 pixels in an image respectively.\n",
    "\n",
    "This preprocess of the data provided the biggest improvement in accuracy - a jump from approx. 0.505 to 0.92.\n",
    "\n",
    "After this i do some hyperparameter tuning of my model using gridsearch. I only iterate over a select few parameters\n",
    "of the logisitic regression model, but the reason for this is that not all parameters are compatible (i.e. not every solver works with both penalties and such). This resulted in a minor improvement in accuracy of my model.\n",
    "\n",
    "The resulting model is a logistic regression model that is trained on preprocessed data like explained above,\n",
    "with finetuned hyperparameters.\n",
    "\n",
    "The techniques that were not useful in improving performance was the initial ones. Simply fitting the model to data that had not been\n",
    "preprocessed, the hyperparameter tuning was not very useful either. \n"
   ]
  }
 ],
 "metadata": {
  "kernelspec": {
   "display_name": "Python 3 (ipykernel)",
   "language": "python",
   "name": "python3"
  },
  "language_info": {
   "codemirror_mode": {
    "name": "ipython",
    "version": 3
   },
   "file_extension": ".py",
   "mimetype": "text/x-python",
   "name": "python",
   "nbconvert_exporter": "python",
   "pygments_lexer": "ipython3",
   "version": "3.11.7"
  },
  "vscode": {
   "interpreter": {
    "hash": "369f2c481f4da34e4445cda3fffd2e751bd1c4d706f27375911949ba6bb62e1c"
   }
  }
 },
 "nbformat": 4,
 "nbformat_minor": 4
}
